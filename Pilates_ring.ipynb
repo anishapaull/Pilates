{
  "cells": [
    {
      "cell_type": "markdown",
      "metadata": {
        "id": "PehH6Eh2rkrP"
      },
      "source": [
        "#### IMPORTING MODULES"
      ]
    },
    {
      "cell_type": "code",
      "execution_count": null,
      "metadata": {
        "id": "PLRLLeRHrkrY"
      },
      "outputs": [],
      "source": [
        "import os\n",
        "import cv2 as cv\n",
        "import tensorflow as tf\n",
        "from keras import layers,losses\n",
        "from keras.layers import Conv2D,UpSampling2D,MaxPooling2D,Input\n",
        "from keras.models import Sequential,load_model,Model\n",
        "from keras.optimizers import RMSprop\n",
        "import numpy as np\n",
        "import matplotlib.pyplot as plt\n",
        "import tensorflowjs as tfjs\n",
        "from random import shuffle\n",
        "from keras.preprocessing.image import ImageDataGenerator\n"
      ]
    },
    {
      "cell_type": "markdown",
      "metadata": {
        "id": "7Iox3NkTrkra"
      },
      "source": [
        "# Model 1"
      ]
    },
    {
      "cell_type": "code",
      "execution_count": null,
      "metadata": {
        "id": "mUxj2bYQrkra"
      },
      "outputs": [],
      "source": [
        "def readData(path,label,numImagesTrain,numImagesTest,dataTrainPath,labelTrainPath,dataTestPath,labelTestPath):\n",
        "    '''\n",
        "    It extracts the data from the images and stores then in npy files.\n",
        "    '''\n",
        "    arrayTrain = np.zeros((numImagesTrain,200,200))\n",
        "    arrayTest = np.zeros((numImagesTest,200,200))\n",
        "    labelTrain = np.array([label]*numImagesTrain)\n",
        "    labelTest = np.array([label]*numImagesTest)\n",
        "    files = os.listdir(path)\n",
        "    shuffle(files)\n",
        "    labelTrain = labelTrain.reshape(-1,1)\n",
        "    labelTest = labelTest.reshape(-1,1)\n",
        "    for i in range(numImagesTrain):\n",
        "        img = cv.cvtColor(cv.imread(os.path.join(path, files[i])), cv.COLOR_BGR2GRAY)\n",
        "        arrayTrain[i] = img\n",
        "    for i in range(numImagesTrain,numImagesTest + numImagesTrain):\n",
        "        img = cv.cvtColor(cv.imread(os.path.join(path, files[i])), cv.COLOR_BGR2GRAY)\n",
        "        arrayTest[i-numImagesTrain] = img\n",
        "    arrayTrain = arrayTrain.reshape(numImagesTrain,200,200,1)\n",
        "    arrayTest = arrayTest.reshape(numImagesTest,200,200,1)\n",
        "    try:\n",
        "        dataTrainArray = np.load(dataTrainPath)\n",
        "        labelTrainArray = np.load(labelTrainPath)\n",
        "        dataTestArray = np.load(dataTestPath)\n",
        "        labelTestArray = np.load(labelTestPath)\n",
        "        dataTrainArray = np.concatenate((dataTrainArray,arrayTrain),axis = 0)\n",
        "        dataTestArray = np.concatenate((dataTestArray,arrayTest),axis = 0)\n",
        "        labelTrainArray = np.concatenate((labelTrainArray,labelTrain),axis = 0)\n",
        "        labelTestArray = np.concatenate((labelTestArray,labelTest),axis = 0)\n",
        "        np.save(dataTrainPath,dataTrainArray)\n",
        "        np.save(labelTrainPath,labelTrainArray)\n",
        "        np.save(dataTestPath,dataTestArray)\n",
        "        np.save(labelTestPath,labelTestArray)\n",
        "        pass\n",
        "    except :\n",
        "        np.save(dataTrainPath,arrayTrain)\n",
        "        np.save(labelTrainPath,labelTrain)\n",
        "        np.save(dataTestPath,arrayTest)\n",
        "        np.save(labelTestPath,labelTest)\n",
        "        pass"
      ]
    },
    {
      "cell_type": "markdown",
      "metadata": {
        "id": "IOBYapCcrkrb"
      },
      "source": [
        "#### READING NOT PRESENT DATA"
      ]
    },
    {
      "cell_type": "code",
      "execution_count": null,
      "metadata": {
        "id": "KdLeP781rkrc"
      },
      "outputs": [],
      "source": [
        "readData(os.path.join(os.pardir,'ImageData','Cropped','Not Present','Bottle'),,1600,400,os.path.join(os.getcwd(),'Model1','dataTrain.npy'),os.path.join(os.getcwd(),'Model1','labelTrain.npy'),os.path.join(os.getcwd(),'Model1','dataTest.npy'),os.path.join(os.getcwd(),'Model1','labelTest.npy'))\n",
        "readData(os.path.join(os.pardir,'ImageData','Cropped','Not Present','Box'),0,1600,400,os.path.join(os.getcwd(),'Model1','dataTrain.npy'),os.path.join(os.getcwd(),'Model1','labelTrain.npy'),os.path.join(os.getcwd(),'Model1','dataTest.npy'),os.path.join(os.getcwd(),'Model1','labelTest.npy'))\n",
        "readData(os.path.join(os.pardir,'ImageData','Cropped','Not Present','Bucket'),0,1600,400,os.path.join(os.getcwd(),'Model1','dataTrain.npy'),os.path.join(os.getcwd(),'Model1','labelTrain.npy'),os.path.join(os.getcwd(),'Model1','dataTest.npy'),os.path.join(os.getcwd(),'Model1','labelTest.npy'))\n",
        "readData(os.path.join(os.pardir,'ImageData','Cropped','Not Present','Chair'),0,1600,400,os.path.join(os.getcwd(),'Model1','dataTrain.npy'),os.path.join(os.getcwd(),'Model1','labelTrain.npy'),os.path.join(os.getcwd(),'Model1','dataTest.npy'),os.path.join(os.getcwd(),'Model1','labelTest.npy'))\n",
        "readData(os.path.join(os.pardir,'ImageData','Cropped','Not Present','Empty'),0,1600,400,os.path.join(os.getcwd(),'Model1','dataTrain.npy'),os.path.join(os.getcwd(),'Model1','labelTrain.npy'),os.path.join(os.getcwd(),'Model1','dataTest.npy'),os.path.join(os.getcwd(),'Model1','labelTest.npy'))\n",
        "readData(os.path.join(os.pardir,'ImageData','Cropped','Not Present','Empty2'),0,1600,400,os.path.join(os.getcwd(),'Model1','dataTrain.npy'),os.path.join(os.getcwd(),'Model1','labelTrain.npy'),os.path.join(os.getcwd(),'Model1','dataTest.npy'),os.path.join(os.getcwd(),'Model1','labelTest.npy'))\n",
        "readData(os.path.join(os.pardir,'ImageData','Cropped','Not Present','Empty3'),0,1600,400,os.path.join(os.getcwd(),'Model1','dataTrain.npy'),os.path.join(os.getcwd(),'Model1','labelTrain.npy'),os.path.join(os.getcwd(),'Model1','dataTest.npy'),os.path.join(os.getcwd(),'Model1','labelTest.npy'))\n",
        "readData(os.path.join(os.pardir,'ImageData','Cropped','Not Present','Notebook'),0,1600,400,os.path.join(os.getcwd(),'Model1','dataTrain.npy'),os.path.join(os.getcwd(),'Model1','labelTrain.npy'),os.path.join(os.getcwd(),'Model1','dataTest.npy'),os.path.join(os.getcwd(),'Model1','labelTest.npy'))\n",
        "readData(os.path.join(os.pardir,'ImageData','Cropped','Not Present','Phone'),0,1600,400,os.path.join(os.getcwd(),'Model1','dataTrain.npy'),os.path.join(os.getcwd(),'Model1','labelTrain.npy'),os.path.join(os.getcwd(),'Model1','dataTest.npy'),os.path.join(os.getcwd(),'Model1','labelTest.npy'))\n",
        "readData(os.path.join(os.pardir,'ImageData','Cropped','Not Present','Pillow'),0,1600,400,os.path.join(os.getcwd(),'Model1','dataTrain.npy'),os.path.join(os.getcwd(),'Model1','labelTrain.npy'),os.path.join(os.getcwd(),'Model1','dataTest.npy'),os.path.join(os.getcwd(),'Model1','labelTest.npy'))\n",
        "readData(os.path.join(os.pardir,'ImageData','Cropped','Not Present','Pillow2'),0,1600,400,os.path.join(os.getcwd(),'Model1','dataTrain.npy'),os.path.join(os.getcwd(),'Model1','labelTrain.npy'),os.path.join(os.getcwd(),'Model1','dataTest.npy'),os.path.join(os.getcwd(),'Model1','labelTest.npy'))\n",
        "readData(os.path.join(os.pardir,'ImageData','Cropped','Not Present','Plate'),0,1600,400,os.path.join(os.getcwd(),'Model1','dataTrain.npy'),os.path.join(os.getcwd(),'Model1','labelTrain.npy'),os.path.join(os.getcwd(),'Model1','dataTest.npy'),os.path.join(os.getcwd(),'Model1','labelTest.npy'))\n",
        "readData(os.path.join(os.pardir,'ImageData','Cropped','Not Present','Racket'),0,1600,400,os.path.join(os.getcwd(),'Model1','dataTrain.npy'),os.path.join(os.getcwd(),'Model1','labelTrain.npy'),os.path.join(os.getcwd(),'Model1','dataTest.npy'),os.path.join(os.getcwd(),'Model1','labelTest.npy'))\n",
        "readData(os.path.join(os.pardir,'ImageData','Cropped','Not Present','Stool'),0,1600,400,os.path.join(os.getcwd(),'Model1','dataTrain.npy'),os.path.join(os.getcwd(),'Model1','labelTrain.npy'),os.path.join(os.getcwd(),'Model1','dataTest.npy'),os.path.join(os.getcwd(),'Model1','labelTest.npy'))\n",
        "readData(os.path.join(os.pardir,'ImageData','Cropped','Not Present','Utensil'),0,1600,400,os.path.join(os.getcwd(),'Model1','dataTrain.npy'),os.path.join(os.getcwd(),'Model1','labelTrain.npy'),os.path.join(os.getcwd(),'Model1','dataTest.npy'),os.path.join(os.getcwd(),'Model1','labelTest.npy'))"
      ]
    },
    {
      "cell_type": "markdown",
      "metadata": {
        "id": "64Un4Zdirkre"
      },
      "source": [
        "#### READING PRESENT DATA"
      ]
    },
    {
      "cell_type": "code",
      "execution_count": null,
      "metadata": {
        "id": "c9xjMbWQrkre"
      },
      "outputs": [],
      "source": [
        "for dir in [\"Present_Black_Red\",\"Present_Black_Yellow\",\"Present_Blue_Black\",\"Present_Blue_Red\",\"Present_Blue_Yellow\",\"PresentBr\"]:\n",
        "    readData(os.path.join(os.pardir,\"ImageData\",\"Cropped\",dir,\"Properly Held\",\"Bottom\",\"Compressed\"),1,400,100,os.path.join(os.getcwd(),\"Model1\",\"dataTrain.npy\"),os.path.join(os.getcwd(),\"Model1\",\"labelTrain.npy\"),os.path.join(os.getcwd(),\"Model1\",\"dataTest.npy\"),os.path.join(os.getcwd(),\"Model1\",\"labelTest.npy\"))\n",
        "    readData(os.path.join(os.pardir,\"ImageData\",\"Cropped\",dir,\"Properly Held\",\"Bottom\",\"Relaxed\"),1,400,100,os.path.join(os.getcwd(),\"Model1\",\"dataTrain.npy\"),os.path.join(os.getcwd(),\"Model1\",\"labelTrain.npy\"),os.path.join(os.getcwd(),\"Model1\",\"dataTest.npy\"),os.path.join(os.getcwd(),\"Model1\",\"labelTest.npy\"))\n",
        "    readData(os.path.join(os.pardir,\"ImageData\",\"Cropped\",dir,\"Properly Held\",\"Front\",\"Compressed\"),1,400,100,os.path.join(os.getcwd(),\"Model1\",\"dataTrain.npy\"),os.path.join(os.getcwd(),\"Model1\",\"labelTrain.npy\"),os.path.join(os.getcwd(),\"Model1\",\"dataTest.npy\"),os.path.join(os.getcwd(),\"Model1\",\"labelTest.npy\"))\n",
        "    readData(os.path.join(os.pardir,\"ImageData\",\"Cropped\",dir,\"Properly Held\",\"Front\",\"Relaxed\"),1,400,100,os.path.join(os.getcwd(),\"Model1\",\"dataTrain.npy\"),os.path.join(os.getcwd(),\"Model1\",\"labelTrain.npy\"),os.path.join(os.getcwd(),\"Model1\",\"dataTest.npy\"),os.path.join(os.getcwd(),\"Model1\",\"labelTest.npy\"))\n",
        "    readData(os.path.join(os.pardir,\"ImageData\",\"Cropped\",dir,\"Properly Held\",\"Left\",\"Compressed\"),1,400,100,os.path.join(os.getcwd(),\"Model1\",\"dataTrain.npy\"),os.path.join(os.getcwd(),\"Model1\",\"labelTrain.npy\"),os.path.join(os.getcwd(),\"Model1\",\"dataTest.npy\"),os.path.join(os.getcwd(),\"Model1\",\"labelTest.npy\"))\n",
        "    readData(os.path.join(os.pardir,\"ImageData\",\"Cropped\",dir,\"Properly Held\",\"Left\",\"Relaxed\"),1,400,100,os.path.join(os.getcwd(),\"Model1\",\"dataTrain.npy\"),os.path.join(os.getcwd(),\"Model1\",\"labelTrain.npy\"),os.path.join(os.getcwd(),\"Model1\",\"dataTest.npy\"),os.path.join(os.getcwd(),\"Model1\",\"labelTest.npy\"))\n",
        "    readData(os.path.join(os.pardir,\"ImageData\",\"Cropped\",dir,\"Properly Held\",\"Right\",\"Compressed\"),1,400,100,os.path.join(os.getcwd(),\"Model1\",\"dataTrain.npy\"),os.path.join(os.getcwd(),\"Model1\",\"labelTrain.npy\"),os.path.join(os.getcwd(),\"Model1\",\"dataTest.npy\"),os.path.join(os.getcwd(),\"Model1\",\"labelTest.npy\"))\n",
        "    readData(os.path.join(os.pardir,\"ImageData\",\"Cropped\",dir,\"Properly Held\",\"Right\",\"Relaxed\"),1,400,100,os.path.join(os.getcwd(),\"Model1\",\"dataTrain.npy\"),os.path.join(os.getcwd(),\"Model1\",\"labelTrain.npy\"),os.path.join(os.getcwd(),\"Model1\",\"dataTest.npy\"),os.path.join(os.getcwd(),\"Model1\",\"labelTest.npy\"))\n",
        "    readData(os.path.join(os.pardir,\"ImageData\",\"Cropped\",dir,\"Properly Held\",\"Top\",\"Compressed\"),1,400,100,os.path.join(os.getcwd(),\"Model1\",\"dataTrain.npy\"),os.path.join(os.getcwd(),\"Model1\",\"labelTrain.npy\"),os.path.join(os.getcwd(),\"Model1\",\"dataTest.npy\"),os.path.join(os.getcwd(),\"Model1\",\"labelTest.npy\"))\n",
        "    readData(os.path.join(os.pardir,\"ImageData\",\"Cropped\",dir,\"Properly Held\",\"Top\",\"Relaxed\"),1,400,100,os.path.join(os.getcwd(),\"Model1\",\"dataTrain.npy\"),os.path.join(os.getcwd(),\"Model1\",\"labelTrain.npy\"),os.path.join(os.getcwd(),\"Model1\",\"dataTest.npy\"),os.path.join(os.getcwd(),\"Model1\",\"labelTest.npy\"))"
      ]
    },
    {
      "cell_type": "markdown",
      "metadata": {
        "id": "nymQcp48rkrf"
      },
      "source": [
        "#### LOADING DATA"
      ]
    },
    {
      "cell_type": "code",
      "execution_count": null,
      "metadata": {
        "id": "6Gtq4IJGrkrg"
      },
      "outputs": [],
      "source": [
        "# Run from here while training\n",
        "trainData = np.load(os.path.join(os.getcwd(),'Model1','dataTrain.npy'))\n",
        "trainLabel = np.load(os.path.join(os.getcwd(),'Model1','labelTrain.npy'))\n",
        "testData = np.load(os.path.join(os.getcwd(),'Model1','dataTest.npy'))\n",
        "testLabel = np.load(os.path.join(os.getcwd(),'Model1','labelTest.npy'))"
      ]
    },
    {
      "cell_type": "markdown",
      "metadata": {
        "id": "dKbSLRZQrkrg"
      },
      "source": [
        "#### SHUFFLING THE DATA"
      ]
    },
    {
      "cell_type": "code",
      "execution_count": null,
      "metadata": {
        "id": "CeubxSlprkrg"
      },
      "outputs": [],
      "source": [
        "def randomizeData(a,b):\n",
        "    '''\n",
        "    This function shuffles two arrays together\n",
        "    '''\n",
        "    c = np.copy(a)\n",
        "    d = np.copy(b)\n",
        "    indices = list({i for i in range(len(a))})\n",
        "    shuffle(indices)\n",
        "    for i in range(len(a)):\n",
        "        c[i] = a[indices[i]]\n",
        "        d[i] = b[indices[i]]\n",
        "    return (c,d)"
      ]
    },
    {
      "cell_type": "code",
      "execution_count": null,
      "metadata": {
        "id": "lIsA5GYjrkrh"
      },
      "outputs": [],
      "source": [
        "(trainData,trainLabel) = randomizeData(trainData,trainLabel)\n",
        "(testData,testLabel) = randomizeData(testData,testLabel)"
      ]
    },
    {
      "cell_type": "code",
      "execution_count": null,
      "metadata": {
        "id": "vT5KLqlmrkrh",
        "outputId": "e1bc61ab-23cd-44cd-c25b-222c8da2aed1"
      },
      "outputs": [
        {
          "data": {
            "text/plain": [
              "(48000, 1)"
            ]
          },
          "execution_count": 5,
          "metadata": {},
          "output_type": "execute_result"
        }
      ],
      "source": [
        "trainLabel.shape"
      ]
    },
    {
      "cell_type": "markdown",
      "metadata": {
        "id": "AXcoCGZXrkrj"
      },
      "source": [
        "#### RESCALING THE DATA FOR AUTOENCODER"
      ]
    },
    {
      "cell_type": "code",
      "execution_count": null,
      "metadata": {
        "id": "nUmbv9qlrkrk"
      },
      "outputs": [],
      "source": [
        "train = trainData / 255.\n",
        "test = testData / 255."
      ]
    },
    {
      "cell_type": "code",
      "execution_count": null,
      "metadata": {
        "id": "0RQTv3aprkrk",
        "outputId": "53062aed-2608-4ed9-a43a-4349ca143899"
      },
      "outputs": [
        {
          "data": {
            "text/plain": [
              "(6000, 200, 200, 1)"
            ]
          },
          "execution_count": 7,
          "metadata": {},
          "output_type": "execute_result"
        }
      ],
      "source": [
        "train = train[0:24000:]\n",
        "test = test[0:6000:]\n",
        "test.shape"
      ]
    },
    {
      "cell_type": "code",
      "execution_count": null,
      "metadata": {
        "id": "NhyAXoWXrkrl",
        "outputId": "1b5f7f2a-607f-4c1d-a12d-6e66bb1bdf7f"
      },
      "outputs": [
        {
          "data": {
            "text/plain": [
              "((19200, 200, 200, 1),\n",
              " (4800, 200, 200, 1),\n",
              " (19200, 200, 200, 1),\n",
              " (4800, 200, 200, 1))"
            ]
          },
          "execution_count": 11,
          "metadata": {},
          "output_type": "execute_result"
        }
      ],
      "source": [
        "from sklearn.model_selection import train_test_split\n",
        "train_X,valid_X,train_ground,valid_ground = train_test_split(train,train,test_size=0.2,train_size=0.8,random_state=13)\n",
        "train_X.shape,valid_X.shape,train_ground.shape,valid_ground.shape"
      ]
    },
    {
      "cell_type": "code",
      "execution_count": null,
      "metadata": {
        "id": "hbPUMRy9rkrl",
        "outputId": "9468dce3-8436-48ff-ffac-1f499e5a62fa"
      },
      "outputs": [
        {
          "data": {
            "text/plain": [
              "dtype('float64')"
            ]
          },
          "execution_count": 12,
          "metadata": {},
          "output_type": "execute_result"
        }
      ],
      "source": [
        "train_X.dtype"
      ]
    },
    {
      "cell_type": "markdown",
      "metadata": {
        "id": "sRc8zcyJrkrm"
      },
      "source": [
        "#### SETTING HYPERPARAMETERS"
      ]
    },
    {
      "cell_type": "code",
      "execution_count": null,
      "metadata": {
        "id": "BHZS1aYtrkrm"
      },
      "outputs": [],
      "source": [
        "batch_size = 4\n",
        "epochs = 20\n",
        "x,y,inchannel = 200,200,1\n",
        "input_image = Input(shape = (x,y,inchannel))"
      ]
    },
    {
      "cell_type": "markdown",
      "metadata": {
        "id": "658b0UP8rkrm"
      },
      "source": [
        "#### MAKING THE ARCHITECTURE OF THE AUTOENCODER"
      ]
    },
    {
      "cell_type": "code",
      "execution_count": null,
      "metadata": {
        "id": "2fpvX-OOrkrm"
      },
      "outputs": [],
      "source": [
        "conv1 = Conv2D(32,(3,3),padding = \"same\",activation = \"relu\")(input_image)\n",
        "maxpool1 = MaxPooling2D(pool_size=(2,2))(conv1)\n",
        "conv2 = Conv2D(64,(3,3),padding = \"same\",activation = \"relu\")(maxpool1)\n",
        "maxpool2 = MaxPooling2D(pool_size=(2,2))(conv2)\n",
        "conv3 = Conv2D(128,(3,3),padding = \"same\",activation = \"relu\")(maxpool2)\n",
        "conv4 = Conv2D(128,(3,3),padding = \"same\",activation = \"relu\")(conv3)\n",
        "upsampling3 = UpSampling2D((2,2))(conv3)\n",
        "conv5 = Conv2D(64,(3,3),padding = \"same\",activation = \"relu\")(upsampling3)\n",
        "upsampling4 = UpSampling2D((2,2))(conv5)\n",
        "autoencoder = Conv2D(32,(3,3),padding = \"same\",activation = \"relu\")(upsampling4)\n"
      ]
    },
    {
      "cell_type": "code",
      "execution_count": null,
      "metadata": {
        "id": "EX4ocCY8rkrn"
      },
      "outputs": [],
      "source": [
        "autoencoder = Model(input_image,autoencoder)"
      ]
    },
    {
      "cell_type": "code",
      "execution_count": null,
      "metadata": {
        "id": "WXh9aoeGrkrn",
        "outputId": "ae021909-a709-4586-da50-276b4cd7fc7a"
      },
      "outputs": [
        {
          "name": "stdout",
          "output_type": "stream",
          "text": [
            "Model: \"model\"\n",
            "_________________________________________________________________\n",
            " Layer (type)                Output Shape              Param #   \n",
            "=================================================================\n",
            " input_1 (InputLayer)        [(None, 200, 200, 1)]     0         \n",
            "                                                                 \n",
            " conv2d (Conv2D)             (None, 200, 200, 32)      320       \n",
            "                                                                 \n",
            " max_pooling2d (MaxPooling2D  (None, 100, 100, 32)     0         \n",
            " )                                                               \n",
            "                                                                 \n",
            " conv2d_1 (Conv2D)           (None, 100, 100, 64)      18496     \n",
            "                                                                 \n",
            " max_pooling2d_1 (MaxPooling  (None, 50, 50, 64)       0         \n",
            " 2D)                                                             \n",
            "                                                                 \n",
            " conv2d_2 (Conv2D)           (None, 50, 50, 128)       73856     \n",
            "                                                                 \n",
            " up_sampling2d (UpSampling2D  (None, 100, 100, 128)    0         \n",
            " )                                                               \n",
            "                                                                 \n",
            " conv2d_4 (Conv2D)           (None, 100, 100, 64)      73792     \n",
            "                                                                 \n",
            " up_sampling2d_1 (UpSampling  (None, 200, 200, 64)     0         \n",
            " 2D)                                                             \n",
            "                                                                 \n",
            " conv2d_5 (Conv2D)           (None, 200, 200, 32)      18464     \n",
            "                                                                 \n",
            "=================================================================\n",
            "Total params: 184,928\n",
            "Trainable params: 184,928\n",
            "Non-trainable params: 0\n",
            "_________________________________________________________________\n"
          ]
        }
      ],
      "source": [
        "autoencoder.summary()"
      ]
    },
    {
      "cell_type": "markdown",
      "metadata": {
        "id": "0nKxinP0rkrn"
      },
      "source": [
        "#### Compiling Autoencoder"
      ]
    },
    {
      "cell_type": "code",
      "execution_count": null,
      "metadata": {
        "id": "ajsQQNUIrkrn"
      },
      "outputs": [],
      "source": [
        "autoencoder.compile(optimizer = RMSprop(),loss = 'mean_squared_error')"
      ]
    },
    {
      "cell_type": "markdown",
      "metadata": {
        "id": "wH14JBXVrkro"
      },
      "source": [
        "#### Fiting the model"
      ]
    },
    {
      "cell_type": "code",
      "execution_count": null,
      "metadata": {
        "id": "BNIRbegWrkro",
        "outputId": "86f9c14b-9c6c-40cb-fb4d-985af8b189e0"
      },
      "outputs": [
        {
          "name": "stdout",
          "output_type": "stream",
          "text": [
            "Epoch 1/20\n",
            "4800/4800 [==============================] - 114s 23ms/step - loss: 0.0016 - val_loss: 9.6191e-05\n",
            "Epoch 2/20\n",
            "4800/4800 [==============================] - 106s 22ms/step - loss: 3.6774e-04 - val_loss: 8.9498e-05\n",
            "Epoch 3/20\n",
            "4800/4800 [==============================] - 107s 22ms/step - loss: 2.6510e-04 - val_loss: 5.9804e-05\n",
            "Epoch 4/20\n",
            "4800/4800 [==============================] - 104s 22ms/step - loss: 2.0935e-04 - val_loss: 6.1442e-04\n",
            "Epoch 5/20\n",
            "4800/4800 [==============================] - 104s 22ms/step - loss: 1.8651e-04 - val_loss: 6.2399e-05\n",
            "Epoch 6/20\n",
            "4800/4800 [==============================] - 108s 23ms/step - loss: 1.7626e-04 - val_loss: 3.3621e-04\n",
            "Epoch 7/20\n",
            "4800/4800 [==============================] - 109s 23ms/step - loss: 1.6927e-04 - val_loss: 4.6313e-05\n",
            "Epoch 8/20\n",
            "4800/4800 [==============================] - 106s 22ms/step - loss: 1.6536e-04 - val_loss: 6.2801e-05\n",
            "Epoch 9/20\n",
            "4800/4800 [==============================] - 106s 22ms/step - loss: 1.4941e-04 - val_loss: 9.2529e-05\n",
            "Epoch 10/20\n",
            "4800/4800 [==============================] - 106s 22ms/step - loss: 1.3571e-04 - val_loss: 1.0967e-04\n",
            "Epoch 11/20\n",
            "4800/4800 [==============================] - 108s 22ms/step - loss: 1.3077e-04 - val_loss: 4.4594e-05\n",
            "Epoch 12/20\n",
            "4800/4800 [==============================] - 108s 22ms/step - loss: 1.3142e-04 - val_loss: 5.5347e-04\n",
            "Epoch 13/20\n",
            "4800/4800 [==============================] - 105s 22ms/step - loss: 1.2321e-04 - val_loss: 4.6319e-05\n",
            "Epoch 14/20\n",
            "4800/4800 [==============================] - 106s 22ms/step - loss: 1.1739e-04 - val_loss: 1.8778e-04\n",
            "Epoch 15/20\n",
            "4800/4800 [==============================] - 106s 22ms/step - loss: 1.1518e-04 - val_loss: 3.8076e-05\n",
            "Epoch 16/20\n",
            "4800/4800 [==============================] - 107s 22ms/step - loss: 1.1727e-04 - val_loss: 3.6742e-05\n",
            "Epoch 17/20\n",
            "4800/4800 [==============================] - 106s 22ms/step - loss: 1.1328e-04 - val_loss: 5.8445e-05\n",
            "Epoch 18/20\n",
            "4800/4800 [==============================] - 106s 22ms/step - loss: 1.1140e-04 - val_loss: 4.5894e-05\n",
            "Epoch 19/20\n",
            "4800/4800 [==============================] - 107s 22ms/step - loss: 1.1035e-04 - val_loss: 3.4850e-05\n",
            "Epoch 20/20\n",
            "4800/4800 [==============================] - 107s 22ms/step - loss: 1.1531e-04 - val_loss: 3.5472e-05\n"
          ]
        },
        {
          "data": {
            "text/plain": [
              "<keras.callbacks.History at 0x2576ccda880>"
            ]
          },
          "execution_count": 14,
          "metadata": {},
          "output_type": "execute_result"
        }
      ],
      "source": [
        "# autoencoder.fit_generator(train_iterator,epochs = 5,verbose=1)\n",
        "# acc = autoencoder.evaluate_generator(test_iterator,verbose=1)\n",
        "autoencoder.fit(train_X,train_ground,epochs = epochs,verbose = 1,batch_size=batch_size,validation_data = (valid_X,valid_ground))"
      ]
    },
    {
      "cell_type": "markdown",
      "metadata": {
        "id": "Mqt3nW9_rkro"
      },
      "source": [
        "#### SAVING THE MODEL IN A FILE"
      ]
    },
    {
      "cell_type": "code",
      "execution_count": null,
      "metadata": {
        "id": "bjUzMFS7rkro"
      },
      "outputs": [],
      "source": [
        "autoencoder.save(os.path.join(os.getcwd(),'autoencoder.h5'))"
      ]
    },
    {
      "cell_type": "code",
      "execution_count": null,
      "metadata": {
        "id": "4711bjJorkro",
        "outputId": "843fdd54-9032-43c1-e175-43bc0e25d3ff"
      },
      "outputs": [
        {
          "name": "stderr",
          "output_type": "stream",
          "text": [
            "c:\\Users\\MDL\\anaconda3\\envs\\pilates_ring\\lib\\site-packages\\tensorflow\\python\\framework\\constant_op.py:102: RuntimeWarning: overflow encountered in cast\n",
            "  return ops.EagerTensor(value, ctx.device_name, dtype)\n"
          ]
        },
        {
          "ename": "InternalError",
          "evalue": "Failed copying input tensor from /job:localhost/replica:0/task:0/device:CPU:0 to /job:localhost/replica:0/task:0/device:GPU:0 in order to run _EagerConst: Dst tensor is not initialized.",
          "output_type": "error",
          "traceback": [
            "\u001b[1;31m---------------------------------------------------------------------------\u001b[0m",
            "\u001b[1;31mInternalError\u001b[0m                             Traceback (most recent call last)",
            "Cell \u001b[1;32mIn[11], line 2\u001b[0m\n\u001b[0;32m      1\u001b[0m autoencoder \u001b[39m=\u001b[39m load_model(os\u001b[39m.\u001b[39mpath\u001b[39m.\u001b[39mjoin(os\u001b[39m.\u001b[39mgetcwd(),\u001b[39m'\u001b[39m\u001b[39mautoencoder.h5\u001b[39m\u001b[39m'\u001b[39m))\n\u001b[1;32m----> 2\u001b[0m predict \u001b[39m=\u001b[39m autoencoder\u001b[39m.\u001b[39;49mpredict(test)\n\u001b[0;32m      3\u001b[0m \u001b[39m# predict.shape\u001b[39;00m\n\u001b[0;32m      4\u001b[0m test\u001b[39m.\u001b[39mshape\n",
            "File \u001b[1;32mc:\\Users\\MDL\\anaconda3\\envs\\pilates_ring\\lib\\site-packages\\keras\\utils\\traceback_utils.py:67\u001b[0m, in \u001b[0;36mfilter_traceback.<locals>.error_handler\u001b[1;34m(*args, **kwargs)\u001b[0m\n\u001b[0;32m     65\u001b[0m \u001b[39mexcept\u001b[39;00m \u001b[39mException\u001b[39;00m \u001b[39mas\u001b[39;00m e:  \u001b[39m# pylint: disable=broad-except\u001b[39;00m\n\u001b[0;32m     66\u001b[0m   filtered_tb \u001b[39m=\u001b[39m _process_traceback_frames(e\u001b[39m.\u001b[39m__traceback__)\n\u001b[1;32m---> 67\u001b[0m   \u001b[39mraise\u001b[39;00m e\u001b[39m.\u001b[39mwith_traceback(filtered_tb) \u001b[39mfrom\u001b[39;00m \u001b[39mNone\u001b[39m\n\u001b[0;32m     68\u001b[0m \u001b[39mfinally\u001b[39;00m:\n\u001b[0;32m     69\u001b[0m   \u001b[39mdel\u001b[39;00m filtered_tb\n",
            "File \u001b[1;32mc:\\Users\\MDL\\anaconda3\\envs\\pilates_ring\\lib\\site-packages\\tensorflow\\python\\framework\\constant_op.py:102\u001b[0m, in \u001b[0;36mconvert_to_eager_tensor\u001b[1;34m(value, ctx, dtype)\u001b[0m\n\u001b[0;32m    100\u001b[0m     dtype \u001b[39m=\u001b[39m dtypes\u001b[39m.\u001b[39mas_dtype(dtype)\u001b[39m.\u001b[39mas_datatype_enum\n\u001b[0;32m    101\u001b[0m ctx\u001b[39m.\u001b[39mensure_initialized()\n\u001b[1;32m--> 102\u001b[0m \u001b[39mreturn\u001b[39;00m ops\u001b[39m.\u001b[39;49mEagerTensor(value, ctx\u001b[39m.\u001b[39;49mdevice_name, dtype)\n",
            "\u001b[1;31mInternalError\u001b[0m: Failed copying input tensor from /job:localhost/replica:0/task:0/device:CPU:0 to /job:localhost/replica:0/task:0/device:GPU:0 in order to run _EagerConst: Dst tensor is not initialized."
          ]
        }
      ],
      "source": [
        "autoencoder = load_model(os.path.join(os.getcwd(),'autoencoder.h5'))\n",
        "predict = autoencoder.predict(test)\n",
        "# predict.shape\n",
        "test.shape"
      ]
    },
    {
      "cell_type": "markdown",
      "metadata": {
        "id": "GelDiJv6rkrp"
      },
      "source": [
        "#### INITIALIZING THE MODEL"
      ]
    },
    {
      "cell_type": "code",
      "execution_count": null,
      "metadata": {
        "id": "7v1z-kuRrkrp"
      },
      "outputs": [],
      "source": [
        "classifier = Sequential()"
      ]
    },
    {
      "cell_type": "markdown",
      "metadata": {
        "id": "rrUf1eEyrkrp"
      },
      "source": [
        "#### ADDING CONVOLUTION LAYERS"
      ]
    },
    {
      "cell_type": "code",
      "execution_count": null,
      "metadata": {
        "id": "nu5Bj-rSrkrp"
      },
      "outputs": [],
      "source": [
        "imgInput = layers.Input(shape = (200,200,1))\n",
        "\n",
        "classifier.add(layers.Convolution2D(32,3,activation = \"relu\",input_shape = (200,200,1)))\n",
        "classifier.add(layers.Convolution2D(32,3,activation = \"relu\",input_shape = (200,200,1)))\n",
        "classifier.add(layers.MaxPooling2D(pool_size = (2,2)))\n",
        "classifier.add(layers.Convolution2D(32,3,activation = \"relu\"))\n",
        "classifier.add(layers.Convolution2D(32,3,activation = \"relu\"))\n",
        "classifier.add(layers.MaxPooling2D(pool_size = (2,2)))\n",
        "classifier.add(layers.Convolution2D(32,3,activation = \"relu\"))\n",
        "classifier.add(layers.Convolution2D(32,3,activation = \"relu\"))\n",
        "classifier.add(layers.MaxPooling2D(pool_size = (2,2)))\n"
      ]
    },
    {
      "cell_type": "markdown",
      "metadata": {
        "id": "UXNYmtvRrkrp"
      },
      "source": [
        "#### ADDING DENSE LAYERS OF THE NEURAL NETWORK"
      ]
    },
    {
      "cell_type": "code",
      "execution_count": null,
      "metadata": {
        "id": "kqaLyx9Mrkrq"
      },
      "outputs": [],
      "source": [
        "classifier.add(layers.Flatten())\n",
        "classifier.add(layers.Dense(128,activation = 'relu'))\n",
        "classifier.add(layers.Dense(64,activation = 'relu'))\n",
        "classifier.add(layers.Dense(32,activation = 'relu'))\n",
        "classifier.add(layers.Dense(2,activation = 'softmax'))"
      ]
    },
    {
      "cell_type": "code",
      "execution_count": null,
      "metadata": {
        "id": "C3x4gDA-rkrq",
        "outputId": "a0bb5ba3-3fd9-404b-f7c4-c16dc683bd27"
      },
      "outputs": [
        {
          "name": "stdout",
          "output_type": "stream",
          "text": [
            "Model: \"sequential\"\n",
            "_________________________________________________________________\n",
            " Layer (type)                Output Shape              Param #   \n",
            "=================================================================\n",
            " conv2d (Conv2D)             (None, 198, 198, 32)      320       \n",
            "                                                                 \n",
            " conv2d_1 (Conv2D)           (None, 196, 196, 32)      9248      \n",
            "                                                                 \n",
            " max_pooling2d (MaxPooling2D  (None, 98, 98, 32)       0         \n",
            " )                                                               \n",
            "                                                                 \n",
            " conv2d_2 (Conv2D)           (None, 96, 96, 32)        9248      \n",
            "                                                                 \n",
            " conv2d_3 (Conv2D)           (None, 94, 94, 32)        9248      \n",
            "                                                                 \n",
            " max_pooling2d_1 (MaxPooling  (None, 47, 47, 32)       0         \n",
            " 2D)                                                             \n",
            "                                                                 \n",
            " conv2d_4 (Conv2D)           (None, 45, 45, 32)        9248      \n",
            "                                                                 \n",
            " conv2d_5 (Conv2D)           (None, 43, 43, 32)        9248      \n",
            "                                                                 \n",
            " max_pooling2d_2 (MaxPooling  (None, 21, 21, 32)       0         \n",
            " 2D)                                                             \n",
            "                                                                 \n",
            " flatten (Flatten)           (None, 14112)             0         \n",
            "                                                                 \n",
            " dense (Dense)               (None, 128)               1806464   \n",
            "                                                                 \n",
            " dense_1 (Dense)             (None, 64)                8256      \n",
            "                                                                 \n",
            " dense_2 (Dense)             (None, 32)                2080      \n",
            "                                                                 \n",
            " dense_3 (Dense)             (None, 2)                 66        \n",
            "                                                                 \n",
            "=================================================================\n",
            "Total params: 1,863,426\n",
            "Trainable params: 1,863,426\n",
            "Non-trainable params: 0\n",
            "_________________________________________________________________\n"
          ]
        }
      ],
      "source": [
        "classifier.summary()"
      ]
    },
    {
      "cell_type": "markdown",
      "metadata": {
        "id": "mGr56aG0rkrq"
      },
      "source": [
        "#### COMPILING THE CNN"
      ]
    },
    {
      "cell_type": "code",
      "execution_count": null,
      "metadata": {
        "id": "NOc_VwQ9rkrq"
      },
      "outputs": [],
      "source": [
        "classifier.compile(optimizer = 'adam',loss = 'sparse_categorical_crossentropy',metrics = ['accuracy'])"
      ]
    },
    {
      "cell_type": "markdown",
      "metadata": {
        "id": "mYLgugIKrkrq"
      },
      "source": [
        "#### TRAINING THE DATA"
      ]
    },
    {
      "cell_type": "code",
      "execution_count": null,
      "metadata": {
        "id": "EGLQtaisrkrr",
        "outputId": "96e2e1c5-322a-48b1-d03d-6ad69265eade"
      },
      "outputs": [
        {
          "name": "stdout",
          "output_type": "stream",
          "text": [
            "Epoch 1/100\n",
            "1500/1500 [==============================] - 95s 59ms/step - loss: 0.1847 - accuracy: 0.9319 - val_loss: 0.0789 - val_accuracy: 0.9700\n",
            "Epoch 2/100\n",
            "1500/1500 [==============================] - 85s 56ms/step - loss: 0.0558 - accuracy: 0.9801 - val_loss: 0.0369 - val_accuracy: 0.9875\n",
            "Epoch 3/100\n",
            "1500/1500 [==============================] - 85s 56ms/step - loss: 0.0330 - accuracy: 0.9885 - val_loss: 0.0364 - val_accuracy: 0.9873\n",
            "Epoch 4/100\n",
            "1500/1500 [==============================] - 84s 56ms/step - loss: 0.0261 - accuracy: 0.9908 - val_loss: 0.0276 - val_accuracy: 0.9912\n",
            "Epoch 5/100\n",
            "1500/1500 [==============================] - 84s 56ms/step - loss: 0.0219 - accuracy: 0.9921 - val_loss: 0.0580 - val_accuracy: 0.9812\n",
            "Epoch 6/100\n",
            "1500/1500 [==============================] - 84s 56ms/step - loss: 0.0190 - accuracy: 0.9934 - val_loss: 0.0338 - val_accuracy: 0.9899\n",
            "Epoch 7/100\n",
            "1500/1500 [==============================] - 84s 56ms/step - loss: 0.0142 - accuracy: 0.9952 - val_loss: 0.0305 - val_accuracy: 0.9904\n",
            "Epoch 8/100\n",
            "1500/1500 [==============================] - 84s 56ms/step - loss: 0.0133 - accuracy: 0.9950 - val_loss: 0.0273 - val_accuracy: 0.9918\n",
            "Epoch 9/100\n",
            "1500/1500 [==============================] - 84s 56ms/step - loss: 0.0095 - accuracy: 0.9967 - val_loss: 0.0296 - val_accuracy: 0.9925\n",
            "Epoch 10/100\n",
            "1500/1500 [==============================] - 84s 56ms/step - loss: 0.0080 - accuracy: 0.9974 - val_loss: 0.0268 - val_accuracy: 0.9928\n",
            "Epoch 11/100\n",
            "1500/1500 [==============================] - 84s 56ms/step - loss: 0.0090 - accuracy: 0.9970 - val_loss: 0.0375 - val_accuracy: 0.9916\n",
            "Epoch 12/100\n",
            "1500/1500 [==============================] - 84s 56ms/step - loss: 0.0090 - accuracy: 0.9970 - val_loss: 0.0353 - val_accuracy: 0.9908\n",
            "Epoch 13/100\n",
            "1500/1500 [==============================] - 84s 56ms/step - loss: 0.0050 - accuracy: 0.9984 - val_loss: 0.0587 - val_accuracy: 0.9874\n",
            "Epoch 14/100\n",
            "1500/1500 [==============================] - 84s 56ms/step - loss: 0.0045 - accuracy: 0.9986 - val_loss: 0.0362 - val_accuracy: 0.9933\n",
            "Epoch 15/100\n",
            "1500/1500 [==============================] - 84s 56ms/step - loss: 0.0081 - accuracy: 0.9975 - val_loss: 0.0310 - val_accuracy: 0.9918\n",
            "Epoch 16/100\n",
            "1500/1500 [==============================] - 84s 56ms/step - loss: 0.0052 - accuracy: 0.9983 - val_loss: 0.0187 - val_accuracy: 0.9940\n",
            "Epoch 17/100\n",
            "1500/1500 [==============================] - 84s 56ms/step - loss: 0.0045 - accuracy: 0.9985 - val_loss: 0.0290 - val_accuracy: 0.9913\n",
            "Epoch 18/100\n",
            "1500/1500 [==============================] - 84s 56ms/step - loss: 0.0051 - accuracy: 0.9984 - val_loss: 0.0476 - val_accuracy: 0.9940\n",
            "Epoch 19/100\n",
            "1500/1500 [==============================] - 84s 56ms/step - loss: 0.0043 - accuracy: 0.9986 - val_loss: 0.0428 - val_accuracy: 0.9905\n",
            "Epoch 20/100\n",
            "1500/1500 [==============================] - 84s 56ms/step - loss: 0.0047 - accuracy: 0.9984 - val_loss: 0.0422 - val_accuracy: 0.9931\n",
            "Epoch 21/100\n",
            "1500/1500 [==============================] - 84s 56ms/step - loss: 0.0032 - accuracy: 0.9987 - val_loss: 0.0418 - val_accuracy: 0.9933\n",
            "Epoch 22/100\n",
            "1500/1500 [==============================] - 84s 56ms/step - loss: 0.0054 - accuracy: 0.9986 - val_loss: 0.0585 - val_accuracy: 0.9941\n",
            "Epoch 23/100\n",
            "1500/1500 [==============================] - 84s 56ms/step - loss: 0.0030 - accuracy: 0.9992 - val_loss: 0.0240 - val_accuracy: 0.9941\n",
            "Epoch 24/100\n",
            "1500/1500 [==============================] - 84s 56ms/step - loss: 0.0037 - accuracy: 0.9990 - val_loss: 0.1035 - val_accuracy: 0.9885\n",
            "Epoch 25/100\n",
            "1500/1500 [==============================] - 84s 56ms/step - loss: 0.0042 - accuracy: 0.9987 - val_loss: 0.0383 - val_accuracy: 0.9935\n",
            "Epoch 26/100\n",
            "1500/1500 [==============================] - 84s 56ms/step - loss: 0.0053 - accuracy: 0.9984 - val_loss: 0.0303 - val_accuracy: 0.9939\n",
            "Epoch 27/100\n",
            "1500/1500 [==============================] - 84s 56ms/step - loss: 0.0032 - accuracy: 0.9989 - val_loss: 0.0352 - val_accuracy: 0.9949\n",
            "Epoch 28/100\n",
            "1500/1500 [==============================] - 85s 56ms/step - loss: 0.0028 - accuracy: 0.9992 - val_loss: 0.0261 - val_accuracy: 0.9931\n",
            "Epoch 29/100\n",
            "1500/1500 [==============================] - 85s 56ms/step - loss: 0.0023 - accuracy: 0.9991 - val_loss: 0.0766 - val_accuracy: 0.9938\n",
            "Epoch 30/100\n",
            "1500/1500 [==============================] - 84s 56ms/step - loss: 0.0073 - accuracy: 0.9983 - val_loss: 0.0547 - val_accuracy: 0.9926\n",
            "Epoch 31/100\n",
            "1500/1500 [==============================] - 84s 56ms/step - loss: 0.0028 - accuracy: 0.9992 - val_loss: 0.0755 - val_accuracy: 0.9933\n",
            "Epoch 32/100\n",
            "1500/1500 [==============================] - 84s 56ms/step - loss: 0.0021 - accuracy: 0.9993 - val_loss: 0.0612 - val_accuracy: 0.9943\n",
            "Epoch 33/100\n",
            "1500/1500 [==============================] - 84s 56ms/step - loss: 0.0027 - accuracy: 0.9994 - val_loss: 0.1272 - val_accuracy: 0.9855\n",
            "Epoch 34/100\n",
            "1500/1500 [==============================] - 84s 56ms/step - loss: 0.0106 - accuracy: 0.9976 - val_loss: 0.0211 - val_accuracy: 0.9948\n",
            "Epoch 35/100\n",
            "1500/1500 [==============================] - 84s 56ms/step - loss: 0.0017 - accuracy: 0.9995 - val_loss: 0.0227 - val_accuracy: 0.9942\n",
            "Epoch 36/100\n",
            "1500/1500 [==============================] - 84s 56ms/step - loss: 0.0038 - accuracy: 0.9989 - val_loss: 0.0412 - val_accuracy: 0.9912\n",
            "Epoch 37/100\n",
            "1500/1500 [==============================] - 85s 56ms/step - loss: 0.0025 - accuracy: 0.9993 - val_loss: 0.0394 - val_accuracy: 0.9947\n",
            "Epoch 38/100\n",
            "1500/1500 [==============================] - 84s 56ms/step - loss: 0.0010 - accuracy: 0.9996 - val_loss: 0.0824 - val_accuracy: 0.9944\n",
            "Epoch 39/100\n",
            "1500/1500 [==============================] - 84s 56ms/step - loss: 0.0072 - accuracy: 0.9984 - val_loss: 0.0926 - val_accuracy: 0.9905\n",
            "Epoch 40/100\n",
            "1500/1500 [==============================] - 84s 56ms/step - loss: 0.0060 - accuracy: 0.9985 - val_loss: 0.0797 - val_accuracy: 0.9909\n",
            "Epoch 41/100\n",
            "1500/1500 [==============================] - 84s 56ms/step - loss: 0.0027 - accuracy: 0.9991 - val_loss: 0.0583 - val_accuracy: 0.9937\n",
            "Epoch 42/100\n",
            "1500/1500 [==============================] - 84s 56ms/step - loss: 0.0017 - accuracy: 0.9995 - val_loss: 0.0882 - val_accuracy: 0.9929\n",
            "Epoch 43/100\n",
            "1500/1500 [==============================] - 84s 56ms/step - loss: 0.0060 - accuracy: 0.9985 - val_loss: 0.0380 - val_accuracy: 0.9932\n",
            "Epoch 44/100\n",
            "1500/1500 [==============================] - 84s 56ms/step - loss: 0.0022 - accuracy: 0.9994 - val_loss: 0.0809 - val_accuracy: 0.9944\n",
            "Epoch 45/100\n",
            "1500/1500 [==============================] - 85s 56ms/step - loss: 0.0067 - accuracy: 0.9983 - val_loss: 0.0692 - val_accuracy: 0.9940\n",
            "Epoch 46/100\n",
            "1500/1500 [==============================] - 84s 56ms/step - loss: 0.0020 - accuracy: 0.9994 - val_loss: 0.0496 - val_accuracy: 0.9934\n",
            "Epoch 47/100\n",
            "1500/1500 [==============================] - 84s 56ms/step - loss: 0.0063 - accuracy: 0.9989 - val_loss: 0.0547 - val_accuracy: 0.9937\n",
            "Epoch 48/100\n",
            "1500/1500 [==============================] - 84s 56ms/step - loss: 6.1567e-04 - accuracy: 0.9998 - val_loss: 0.0828 - val_accuracy: 0.9944\n",
            "Epoch 49/100\n",
            "1500/1500 [==============================] - 84s 56ms/step - loss: 0.0090 - accuracy: 0.9976 - val_loss: 0.0647 - val_accuracy: 0.9938\n",
            "Epoch 50/100\n",
            "1500/1500 [==============================] - 84s 56ms/step - loss: 0.0096 - accuracy: 0.9982 - val_loss: 0.1322 - val_accuracy: 0.9931\n",
            "Epoch 51/100\n",
            "1500/1500 [==============================] - 84s 56ms/step - loss: 0.0126 - accuracy: 0.9984 - val_loss: 0.0344 - val_accuracy: 0.9937\n",
            "Epoch 52/100\n",
            "1500/1500 [==============================] - 84s 56ms/step - loss: 0.0012 - accuracy: 0.9997 - val_loss: 0.0408 - val_accuracy: 0.9941\n",
            "Epoch 53/100\n",
            "1500/1500 [==============================] - 84s 56ms/step - loss: 9.3998e-04 - accuracy: 0.9996 - val_loss: 0.1239 - val_accuracy: 0.9929\n",
            "Epoch 54/100\n",
            "1500/1500 [==============================] - 84s 56ms/step - loss: 0.0067 - accuracy: 0.9983 - val_loss: 0.0329 - val_accuracy: 0.9929\n",
            "Epoch 55/100\n",
            "1500/1500 [==============================] - 84s 56ms/step - loss: 0.0131 - accuracy: 0.9986 - val_loss: 0.0397 - val_accuracy: 0.9935\n",
            "Epoch 56/100\n",
            "1500/1500 [==============================] - 84s 56ms/step - loss: 0.0017 - accuracy: 0.9995 - val_loss: 0.0567 - val_accuracy: 0.9933\n",
            "Epoch 57/100\n",
            "1500/1500 [==============================] - 84s 56ms/step - loss: 0.0015 - accuracy: 0.9996 - val_loss: 0.0729 - val_accuracy: 0.9906\n",
            "Epoch 58/100\n",
            "1500/1500 [==============================] - 84s 56ms/step - loss: 0.0067 - accuracy: 0.9992 - val_loss: 0.0410 - val_accuracy: 0.9934\n",
            "Epoch 59/100\n",
            "1500/1500 [==============================] - 84s 56ms/step - loss: 7.0909e-04 - accuracy: 0.9998 - val_loss: 0.0669 - val_accuracy: 0.9927\n",
            "Epoch 60/100\n",
            "1500/1500 [==============================] - 84s 56ms/step - loss: 0.0058 - accuracy: 0.9988 - val_loss: 0.0633 - val_accuracy: 0.9938\n",
            "Epoch 61/100\n",
            "1500/1500 [==============================] - 84s 56ms/step - loss: 7.8742e-04 - accuracy: 0.9998 - val_loss: 0.0590 - val_accuracy: 0.9941\n",
            "Epoch 62/100\n",
            "1500/1500 [==============================] - 84s 56ms/step - loss: 0.0064 - accuracy: 0.9986 - val_loss: 0.1037 - val_accuracy: 0.9933\n",
            "Epoch 63/100\n",
            "1500/1500 [==============================] - 84s 56ms/step - loss: 0.0049 - accuracy: 0.9991 - val_loss: 0.1975 - val_accuracy: 0.9874\n",
            "Epoch 64/100\n",
            "1500/1500 [==============================] - 84s 56ms/step - loss: 0.0013 - accuracy: 0.9996 - val_loss: 0.1378 - val_accuracy: 0.9931\n",
            "Epoch 65/100\n",
            "1500/1500 [==============================] - 84s 56ms/step - loss: 0.0046 - accuracy: 0.9989 - val_loss: 0.0512 - val_accuracy: 0.9934\n",
            "Epoch 66/100\n",
            "1500/1500 [==============================] - 84s 56ms/step - loss: 2.4559e-04 - accuracy: 0.9999 - val_loss: 0.0990 - val_accuracy: 0.9947\n",
            "Epoch 67/100\n",
            "1500/1500 [==============================] - 84s 56ms/step - loss: 0.0036 - accuracy: 0.9992 - val_loss: 0.0940 - val_accuracy: 0.9924\n",
            "Epoch 68/100\n",
            "1500/1500 [==============================] - 84s 56ms/step - loss: 0.0045 - accuracy: 0.9990 - val_loss: 0.1283 - val_accuracy: 0.9930\n",
            "Epoch 69/100\n",
            "1500/1500 [==============================] - 84s 56ms/step - loss: 0.0087 - accuracy: 0.9988 - val_loss: 0.0818 - val_accuracy: 0.9936\n",
            "Epoch 70/100\n",
            "1500/1500 [==============================] - 84s 56ms/step - loss: 7.9274e-04 - accuracy: 0.9998 - val_loss: 0.2672 - val_accuracy: 0.9940\n",
            "Epoch 71/100\n",
            "1500/1500 [==============================] - 84s 56ms/step - loss: 0.0173 - accuracy: 0.9978 - val_loss: 0.1787 - val_accuracy: 0.9852\n",
            "Epoch 72/100\n",
            "1500/1500 [==============================] - 84s 56ms/step - loss: 0.0080 - accuracy: 0.9983 - val_loss: 0.1531 - val_accuracy: 0.9912\n",
            "Epoch 73/100\n",
            "1500/1500 [==============================] - 84s 56ms/step - loss: 0.0013 - accuracy: 0.9996 - val_loss: 0.0834 - val_accuracy: 0.9928\n",
            "Epoch 74/100\n",
            "1500/1500 [==============================] - 84s 56ms/step - loss: 0.0015 - accuracy: 0.9997 - val_loss: 1.2209 - val_accuracy: 0.9837\n",
            "Epoch 75/100\n",
            "1500/1500 [==============================] - 84s 56ms/step - loss: 0.0152 - accuracy: 0.9974 - val_loss: 0.0600 - val_accuracy: 0.9937\n",
            "Epoch 76/100\n",
            "1500/1500 [==============================] - 84s 56ms/step - loss: 0.0021 - accuracy: 0.9996 - val_loss: 0.0480 - val_accuracy: 0.9933\n",
            "Epoch 77/100\n",
            "1500/1500 [==============================] - 85s 56ms/step - loss: 0.0013 - accuracy: 0.9996 - val_loss: 0.1115 - val_accuracy: 0.9935\n",
            "Epoch 78/100\n",
            "1500/1500 [==============================] - 84s 56ms/step - loss: 4.6763e-04 - accuracy: 0.9999 - val_loss: 0.1367 - val_accuracy: 0.9936\n",
            "Epoch 79/100\n",
            "1500/1500 [==============================] - 84s 56ms/step - loss: 0.0044 - accuracy: 0.9988 - val_loss: 0.0737 - val_accuracy: 0.9933\n",
            "Epoch 80/100\n",
            "1500/1500 [==============================] - 84s 56ms/step - loss: 0.0023 - accuracy: 0.9993 - val_loss: 0.1743 - val_accuracy: 0.9928\n",
            "Epoch 81/100\n",
            "1500/1500 [==============================] - 84s 56ms/step - loss: 0.0185 - accuracy: 0.9980 - val_loss: 0.1186 - val_accuracy: 0.9929\n",
            "Epoch 82/100\n",
            "1500/1500 [==============================] - 84s 56ms/step - loss: 6.7670e-04 - accuracy: 0.9998 - val_loss: 0.2010 - val_accuracy: 0.9935\n",
            "Epoch 83/100\n",
            "1500/1500 [==============================] - 84s 56ms/step - loss: 0.0117 - accuracy: 0.9980 - val_loss: 0.1460 - val_accuracy: 0.9920\n",
            "Epoch 84/100\n",
            "1500/1500 [==============================] - 84s 56ms/step - loss: 0.0030 - accuracy: 0.9993 - val_loss: 0.0807 - val_accuracy: 0.9926\n",
            "Epoch 85/100\n",
            "1500/1500 [==============================] - 84s 56ms/step - loss: 0.0025 - accuracy: 0.9995 - val_loss: 0.0870 - val_accuracy: 0.9933\n",
            "Epoch 86/100\n",
            "1500/1500 [==============================] - 84s 56ms/step - loss: 0.0042 - accuracy: 0.9991 - val_loss: 0.0839 - val_accuracy: 0.9929\n",
            "Epoch 87/100\n",
            "1500/1500 [==============================] - 85s 56ms/step - loss: 0.0126 - accuracy: 0.9986 - val_loss: 0.0769 - val_accuracy: 0.9935\n",
            "Epoch 88/100\n",
            "1500/1500 [==============================] - 84s 56ms/step - loss: 3.4188e-04 - accuracy: 1.0000 - val_loss: 0.1245 - val_accuracy: 0.9930\n",
            "Epoch 89/100\n",
            "1500/1500 [==============================] - 84s 56ms/step - loss: 0.0088 - accuracy: 0.9982 - val_loss: 0.0828 - val_accuracy: 0.9899\n",
            "Epoch 90/100\n",
            "1500/1500 [==============================] - 84s 56ms/step - loss: 0.0090 - accuracy: 0.9981 - val_loss: 0.1376 - val_accuracy: 0.9930\n",
            "Epoch 91/100\n",
            "1500/1500 [==============================] - 84s 56ms/step - loss: 0.0064 - accuracy: 0.9986 - val_loss: 0.0829 - val_accuracy: 0.9932\n",
            "Epoch 92/100\n",
            "1500/1500 [==============================] - 84s 56ms/step - loss: 0.0040 - accuracy: 0.9989 - val_loss: 0.2100 - val_accuracy: 0.9919\n",
            "Epoch 93/100\n",
            "1500/1500 [==============================] - 84s 56ms/step - loss: 0.0036 - accuracy: 0.9993 - val_loss: 0.1422 - val_accuracy: 0.9927\n",
            "Epoch 94/100\n",
            "1500/1500 [==============================] - 84s 56ms/step - loss: 0.0147 - accuracy: 0.9981 - val_loss: 0.3491 - val_accuracy: 0.9888\n",
            "Epoch 95/100\n",
            "1500/1500 [==============================] - 84s 56ms/step - loss: 0.0111 - accuracy: 0.9983 - val_loss: 0.1600 - val_accuracy: 0.9932\n",
            "Epoch 96/100\n",
            "1500/1500 [==============================] - 84s 56ms/step - loss: 5.5951e-04 - accuracy: 0.9999 - val_loss: 0.1291 - val_accuracy: 0.9937\n",
            "Epoch 97/100\n",
            "1500/1500 [==============================] - 85s 57ms/step - loss: 2.7063e-04 - accuracy: 0.9999 - val_loss: 0.1927 - val_accuracy: 0.9933\n",
            "Epoch 98/100\n",
            "1500/1500 [==============================] - 84s 56ms/step - loss: 0.0038 - accuracy: 0.9994 - val_loss: 0.1025 - val_accuracy: 0.9923\n",
            "Epoch 99/100\n",
            "1500/1500 [==============================] - 85s 56ms/step - loss: 0.0108 - accuracy: 0.9977 - val_loss: 0.0531 - val_accuracy: 0.9914\n",
            "Epoch 100/100\n",
            "1500/1500 [==============================] - 84s 56ms/step - loss: 0.0022 - accuracy: 0.9996 - val_loss: 0.0696 - val_accuracy: 0.9927\n"
          ]
        },
        {
          "data": {
            "text/plain": [
              "<keras.callbacks.History at 0x1f421482730>"
            ]
          },
          "execution_count": 12,
          "metadata": {},
          "output_type": "execute_result"
        }
      ],
      "source": [
        "classifier.fit(trainData,trainLabel,epochs = 100,verbose = 1,validation_data = (testData,testLabel))"
      ]
    },
    {
      "cell_type": "markdown",
      "metadata": {
        "id": "pw9YHCYsrkrr"
      },
      "source": [
        "#### SAVING THE MODEL IN A FILE"
      ]
    },
    {
      "cell_type": "code",
      "execution_count": null,
      "metadata": {
        "id": "2k5jPhJPrkrr"
      },
      "outputs": [],
      "source": [
        "classifier.save(os.path.join(os.getcwd(),'Model1.h5'))\n",
        "!tensorflowjs_converter --input_format keras Model1.h5 Model1JS/"
      ]
    },
    {
      "cell_type": "markdown",
      "metadata": {
        "id": "18lb4rmxrkrr"
      },
      "source": [
        "# Model 2"
      ]
    },
    {
      "cell_type": "markdown",
      "metadata": {
        "id": "9EwE3HT4rkrs"
      },
      "source": [
        "#### READING AND SAVING DATA"
      ]
    },
    {
      "cell_type": "code",
      "execution_count": null,
      "metadata": {
        "id": "JJm_imdnrkrs"
      },
      "outputs": [],
      "source": [
        "for dir in [\"Present_Black_Red\",\"Present_Black_Yellow\",\"Present_Blue_Black\",\"Present_Blue_Red\",\"Present_Blue_Yellow\",\"PresentBr\"]:\n",
        "    readData(os.path.join(os.pardir,\"ImageData\",\"Cropped\",dir,\"Properly Held\",\"Bottom\",\"Compressed\"),0,750,250,os.path.join(os.getcwd(),\"Model2\",\"dataTrain.npy\"),os.path.join(os.getcwd(),\"Model2\",\"labelTrain.npy\"),os.path.join(os.getcwd(),\"Model2\",\"dataTest.npy\"),os.path.join(os.getcwd(),\"Model2\",\"labelTest.npy\"))\n",
        "    readData(os.path.join(os.pardir,\"ImageData\",\"Cropped\",dir,\"Properly Held\",\"Bottom\",\"Relaxed\"),0,750,250,os.path.join(os.getcwd(),\"Model2\",\"dataTrain.npy\"),os.path.join(os.getcwd(),\"Model2\",\"labelTrain.npy\"),os.path.join(os.getcwd(),\"Model2\",\"dataTest.npy\"),os.path.join(os.getcwd(),\"Model2\",\"labelTest.npy\"))\n",
        "    readData(os.path.join(os.pardir,\"ImageData\",\"Cropped\",dir,\"Properly Held\",\"Front\",\"Compressed\"),1,750,250,os.path.join(os.getcwd(),\"Model2\",\"dataTrain.npy\"),os.path.join(os.getcwd(),\"Model2\",\"labelTrain.npy\"),os.path.join(os.getcwd(),\"Model2\",\"dataTest.npy\"),os.path.join(os.getcwd(),\"Model2\",\"labelTest.npy\"))\n",
        "    readData(os.path.join(os.pardir,\"ImageData\",\"Cropped\",dir,\"Properly Held\",\"Front\",\"Relaxed\"),1,750,250,os.path.join(os.getcwd(),\"Model2\",\"dataTrain.npy\"),os.path.join(os.getcwd(),\"Model2\",\"labelTrain.npy\"),os.path.join(os.getcwd(),\"Model2\",\"dataTest.npy\"),os.path.join(os.getcwd(),\"Model2\",\"labelTest.npy\"))\n",
        "    readData(os.path.join(os.pardir,\"ImageData\",\"Cropped\",dir,\"Properly Held\",\"Left\",\"Compressed\"),2,750,250,os.path.join(os.getcwd(),\"Model2\",\"dataTrain.npy\"),os.path.join(os.getcwd(),\"Model2\",\"labelTrain.npy\"),os.path.join(os.getcwd(),\"Model2\",\"dataTest.npy\"),os.path.join(os.getcwd(),\"Model2\",\"labelTest.npy\"))\n",
        "    readData(os.path.join(os.pardir,\"ImageData\",\"Cropped\",dir,\"Properly Held\",\"Left\",\"Relaxed\"),2,750,250,os.path.join(os.getcwd(),\"Model2\",\"dataTrain.npy\"),os.path.join(os.getcwd(),\"Model2\",\"labelTrain.npy\"),os.path.join(os.getcwd(),\"Model2\",\"dataTest.npy\"),os.path.join(os.getcwd(),\"Model2\",\"labelTest.npy\"))\n",
        "    readData(os.path.join(os.pardir,\"ImageData\",\"Cropped\",dir,\"Properly Held\",\"Right\",\"Compressed\"),3,750,250,os.path.join(os.getcwd(),\"Model2\",\"dataTrain.npy\"),os.path.join(os.getcwd(),\"Model2\",\"labelTrain.npy\"),os.path.join(os.getcwd(),\"Model2\",\"dataTest.npy\"),os.path.join(os.getcwd(),\"Model2\",\"labelTest.npy\"))\n",
        "    readData(os.path.join(os.pardir,\"ImageData\",\"Cropped\",dir,\"Properly Held\",\"Right\",\"Relaxed\"),3,750,250,os.path.join(os.getcwd(),\"Model2\",\"dataTrain.npy\"),os.path.join(os.getcwd(),\"Model2\",\"labelTrain.npy\"),os.path.join(os.getcwd(),\"Model2\",\"dataTest.npy\"),os.path.join(os.getcwd(),\"Model2\",\"labelTest.npy\"))\n",
        "    readData(os.path.join(os.pardir,\"ImageData\",\"Cropped\",dir,\"Properly Held\",\"Top\",\"Compressed\"),4,750,250,os.path.join(os.getcwd(),\"Model2\",\"dataTrain.npy\"),os.path.join(os.getcwd(),\"Model2\",\"labelTrain.npy\"),os.path.join(os.getcwd(),\"Model2\",\"dataTest.npy\"),os.path.join(os.getcwd(),\"Model2\",\"labelTest.npy\"))\n",
        "    readData(os.path.join(os.pardir,\"ImageData\",\"Cropped\",dir,\"Properly Held\",\"Top\",\"Relaxed\"),4,750,250,os.path.join(os.getcwd(),\"Model2\",\"dataTrain.npy\"),os.path.join(os.getcwd(),\"Model2\",\"labelTrain.npy\"),os.path.join(os.getcwd(),\"Model2\",\"dataTest.npy\"),os.path.join(os.getcwd(),\"Model2\",\"labelTest.npy\"))"
      ]
    },
    {
      "cell_type": "markdown",
      "metadata": {
        "id": "HMT1bNogrkrs"
      },
      "source": [
        "#### LOADING DATA FROM FILES"
      ]
    },
    {
      "cell_type": "code",
      "execution_count": null,
      "metadata": {
        "id": "bi8tUxzWrkrs"
      },
      "outputs": [],
      "source": [
        "# Run from here while training\n",
        "dataTrain2 = np.load(os.path.join(os.getcwd(),'Model2','dataTrain.npy'))\n",
        "dataTest2 = np.load(os.path.join(os.getcwd(),'Model2','dataTest.npy'))\n",
        "labelTrain2 = np.load(os.path.join(os.getcwd(),'Model2','labelTrain.npy'))\n",
        "labelTest2 = np.load(os.path.join(os.getcwd(),'Model2','labelTest.npy'))"
      ]
    },
    {
      "cell_type": "markdown",
      "metadata": {
        "id": "o2CT9Pnurkrt"
      },
      "source": [
        "#### SHUFFLING THE DATA"
      ]
    },
    {
      "cell_type": "code",
      "execution_count": null,
      "metadata": {
        "id": "VV0vtkN2rkrt"
      },
      "outputs": [],
      "source": [
        "dataTrain2,labelTrain2 = randomizeData(dataTrain2,labelTrain2)\n",
        "dataTest2,labelTest2 = randomizeData(dataTest2,labelTest2)"
      ]
    },
    {
      "cell_type": "markdown",
      "metadata": {
        "id": "eXtQW3Ksrkru"
      },
      "source": [
        "#### INITIALIZING THE MODEL"
      ]
    },
    {
      "cell_type": "code",
      "execution_count": null,
      "metadata": {
        "id": "pXrBfcSTrkru"
      },
      "outputs": [],
      "source": [
        "classifier2 = Sequential()"
      ]
    },
    {
      "cell_type": "markdown",
      "metadata": {
        "id": "PDsRcrkLrkru"
      },
      "source": [
        "#### ADDING CONVOLUTION LAYERS"
      ]
    },
    {
      "cell_type": "code",
      "execution_count": null,
      "metadata": {
        "id": "cQLiFgU_rkrv"
      },
      "outputs": [],
      "source": [
        "classifier2.add(layers.Convolution2D(32,3,activation = \"relu\",input_shape = (200,200,1)))\n",
        "classifier2.add(layers.MaxPooling2D(pool_size = (2,2)))\n",
        "classifier2.add(layers.Convolution2D(32,3,activation = \"relu\"))\n",
        "classifier2.add(layers.MaxPooling2D(pool_size = (2,2)))\n",
        "classifier2.add(layers.Convolution2D(32,3,activation = \"relu\"))\n",
        "classifier2.add(layers.MaxPooling2D(pool_size = (2,2)))\n",
        "classifier2.add(layers.Convolution2D(32,3,activation = \"relu\"))\n",
        "classifier2.add(layers.MaxPooling2D(pool_size = (2,2)))\n",
        "classifier2.add(layers.Convolution2D(32,3,activation = \"relu\"))\n",
        "classifier2.add(layers.MaxPooling2D(pool_size = (2,2)))\n",
        "classifier2.add(layers.Convolution2D(32,3,activation = \"relu\"))\n",
        "classifier2.add(layers.MaxPooling2D(pool_size = (2,2)))"
      ]
    },
    {
      "cell_type": "markdown",
      "metadata": {
        "id": "NSpXFYjRrkrv"
      },
      "source": [
        "#### ADDING DENSE LAYERS OF THE NEURAL NETWORK"
      ]
    },
    {
      "cell_type": "code",
      "execution_count": null,
      "metadata": {
        "id": "5BSuot_Xrkrv"
      },
      "outputs": [],
      "source": [
        "classifier2.add(layers.Flatten())\n",
        "classifier2.add(layers.Dense(128,activation = 'relu'))\n",
        "classifier2.add(layers.Dense(64,activation = 'relu'))\n",
        "classifier2.add(layers.Dense(32,activation = 'relu'))\n",
        "classifier2.add(layers.Dense(5,activation = 'softmax'))"
      ]
    },
    {
      "cell_type": "code",
      "execution_count": null,
      "metadata": {
        "id": "ENEi3gZErkrw",
        "outputId": "f71ccc03-e75c-4e74-f2ed-4dee29b5b20e"
      },
      "outputs": [
        {
          "name": "stdout",
          "output_type": "stream",
          "text": [
            "Model: \"sequential\"\n",
            "_________________________________________________________________\n",
            " Layer (type)                Output Shape              Param #   \n",
            "=================================================================\n",
            " conv2d (Conv2D)             (None, 198, 198, 32)      320       \n",
            "                                                                 \n",
            " max_pooling2d (MaxPooling2D  (None, 99, 99, 32)       0         \n",
            " )                                                               \n",
            "                                                                 \n",
            " conv2d_1 (Conv2D)           (None, 97, 97, 32)        9248      \n",
            "                                                                 \n",
            " max_pooling2d_1 (MaxPooling  (None, 48, 48, 32)       0         \n",
            " 2D)                                                             \n",
            "                                                                 \n",
            " conv2d_2 (Conv2D)           (None, 46, 46, 32)        9248      \n",
            "                                                                 \n",
            " max_pooling2d_2 (MaxPooling  (None, 23, 23, 32)       0         \n",
            " 2D)                                                             \n",
            "                                                                 \n",
            " conv2d_3 (Conv2D)           (None, 21, 21, 32)        9248      \n",
            "                                                                 \n",
            " max_pooling2d_3 (MaxPooling  (None, 10, 10, 32)       0         \n",
            " 2D)                                                             \n",
            "                                                                 \n",
            " conv2d_4 (Conv2D)           (None, 8, 8, 32)          9248      \n",
            "                                                                 \n",
            " max_pooling2d_4 (MaxPooling  (None, 4, 4, 32)         0         \n",
            " 2D)                                                             \n",
            "                                                                 \n",
            " conv2d_5 (Conv2D)           (None, 2, 2, 32)          9248      \n",
            "                                                                 \n",
            " max_pooling2d_5 (MaxPooling  (None, 1, 1, 32)         0         \n",
            " 2D)                                                             \n",
            "                                                                 \n",
            " flatten (Flatten)           (None, 32)                0         \n",
            "                                                                 \n",
            " dense (Dense)               (None, 128)               4224      \n",
            "                                                                 \n",
            " dense_1 (Dense)             (None, 64)                8256      \n",
            "                                                                 \n",
            " dense_2 (Dense)             (None, 32)                2080      \n",
            "                                                                 \n",
            " dense_3 (Dense)             (None, 5)                 165       \n",
            "                                                                 \n",
            "=================================================================\n",
            "Total params: 61,285\n",
            "Trainable params: 61,285\n",
            "Non-trainable params: 0\n",
            "_________________________________________________________________\n"
          ]
        }
      ],
      "source": [
        "classifier2.summary()"
      ]
    },
    {
      "cell_type": "markdown",
      "metadata": {
        "id": "Eze1xoxSrkrw"
      },
      "source": [
        "#### COMPILING THE CNN"
      ]
    },
    {
      "cell_type": "code",
      "execution_count": null,
      "metadata": {
        "id": "aDN_X4hvrkrw"
      },
      "outputs": [],
      "source": [
        "classifier2.compile(optimizer = 'adam',loss = 'sparse_categorical_crossentropy',metrics = ['accuracy'])"
      ]
    },
    {
      "cell_type": "markdown",
      "metadata": {
        "id": "zAmUQuKGrkrx"
      },
      "source": [
        "#### TRAINING THE DATA"
      ]
    },
    {
      "cell_type": "code",
      "execution_count": null,
      "metadata": {
        "id": "cilv3kDxrkrx",
        "outputId": "7f16f57e-6727-4054-81c2-da55e6bed181"
      },
      "outputs": [
        {
          "name": "stdout",
          "output_type": "stream",
          "text": [
            "Epoch 1/20\n",
            "2813/2813 [==============================] - 80s 23ms/step - loss: 0.2595 - accuracy: 0.9074 - val_loss: 0.0569 - val_accuracy: 0.9811\n",
            "Epoch 2/20\n",
            "2813/2813 [==============================] - 60s 21ms/step - loss: 0.0628 - accuracy: 0.9808 - val_loss: 0.0381 - val_accuracy: 0.9875\n",
            "Epoch 3/20\n",
            "2813/2813 [==============================] - 59s 21ms/step - loss: 0.0424 - accuracy: 0.9871 - val_loss: 0.0754 - val_accuracy: 0.9793\n",
            "Epoch 4/20\n",
            "2813/2813 [==============================] - 59s 21ms/step - loss: 0.0405 - accuracy: 0.9883 - val_loss: 0.0428 - val_accuracy: 0.9873\n",
            "Epoch 5/20\n",
            "2813/2813 [==============================] - 59s 21ms/step - loss: 0.0300 - accuracy: 0.9917 - val_loss: 0.0222 - val_accuracy: 0.9935\n",
            "Epoch 6/20\n",
            "2813/2813 [==============================] - 59s 21ms/step - loss: 0.0253 - accuracy: 0.9934 - val_loss: 0.0198 - val_accuracy: 0.9940\n",
            "Epoch 7/20\n",
            "2813/2813 [==============================] - 59s 21ms/step - loss: 0.0219 - accuracy: 0.9937 - val_loss: 0.0207 - val_accuracy: 0.9950\n",
            "Epoch 8/20\n",
            "2813/2813 [==============================] - 59s 21ms/step - loss: 0.0220 - accuracy: 0.9937 - val_loss: 0.0156 - val_accuracy: 0.9961\n",
            "Epoch 9/20\n",
            "2813/2813 [==============================] - 59s 21ms/step - loss: 0.0205 - accuracy: 0.9942 - val_loss: 0.0148 - val_accuracy: 0.9961\n",
            "Epoch 10/20\n",
            "2813/2813 [==============================] - 60s 21ms/step - loss: 0.0167 - accuracy: 0.9954 - val_loss: 0.0492 - val_accuracy: 0.9861\n",
            "Epoch 11/20\n",
            "2813/2813 [==============================] - 59s 21ms/step - loss: 0.0189 - accuracy: 0.9948 - val_loss: 0.0253 - val_accuracy: 0.9927\n",
            "Epoch 12/20\n",
            "2813/2813 [==============================] - 59s 21ms/step - loss: 0.0148 - accuracy: 0.9961 - val_loss: 0.0179 - val_accuracy: 0.9951\n",
            "Epoch 13/20\n",
            "2813/2813 [==============================] - 61s 22ms/step - loss: 0.0123 - accuracy: 0.9964 - val_loss: 0.0528 - val_accuracy: 0.9868\n",
            "Epoch 14/20\n",
            "2813/2813 [==============================] - 59s 21ms/step - loss: 0.0182 - accuracy: 0.9955 - val_loss: 0.0164 - val_accuracy: 0.9953\n",
            "Epoch 15/20\n",
            "2813/2813 [==============================] - 60s 21ms/step - loss: 0.0123 - accuracy: 0.9966 - val_loss: 0.0197 - val_accuracy: 0.9942\n",
            "Epoch 16/20\n",
            "2813/2813 [==============================] - 60s 21ms/step - loss: 0.0169 - accuracy: 0.9959 - val_loss: 0.0110 - val_accuracy: 0.9963\n",
            "Epoch 17/20\n",
            "2813/2813 [==============================] - 59s 21ms/step - loss: 0.0160 - accuracy: 0.9964 - val_loss: 0.0154 - val_accuracy: 0.9968\n",
            "Epoch 18/20\n",
            "2813/2813 [==============================] - 60s 21ms/step - loss: 0.0116 - accuracy: 0.9974 - val_loss: 0.0538 - val_accuracy: 0.9866\n",
            "Epoch 19/20\n",
            "2813/2813 [==============================] - 59s 21ms/step - loss: 0.0147 - accuracy: 0.9968 - val_loss: 0.0130 - val_accuracy: 0.9969\n",
            "Epoch 20/20\n",
            "2813/2813 [==============================] - 60s 21ms/step - loss: 0.0167 - accuracy: 0.9968 - val_loss: 0.0104 - val_accuracy: 0.9968\n"
          ]
        },
        {
          "data": {
            "text/plain": [
              "<keras.callbacks.History at 0x2ccbf4d0a30>"
            ]
          },
          "execution_count": 14,
          "metadata": {},
          "output_type": "execute_result"
        }
      ],
      "source": [
        "classifier2.fit(dataTrain2,labelTrain2,epochs = 20,verbose = 1,validation_data = (dataTest2,labelTest2),batch_size=16)"
      ]
    },
    {
      "cell_type": "markdown",
      "metadata": {
        "id": "tZAIn0iirkrx"
      },
      "source": [
        "#### SAVING THE MODEL IN A FILE"
      ]
    },
    {
      "cell_type": "code",
      "execution_count": null,
      "metadata": {
        "id": "wb2VPP2Jrkrx"
      },
      "outputs": [],
      "source": [
        "classifier2.save(os.path.join(os.getcwd(),'Model2.h5'))\n",
        "!tensorflowjs_converter --input_format keras Model2.h5 Model2JS/"
      ]
    },
    {
      "cell_type": "markdown",
      "metadata": {
        "id": "7_GELp0prkrx"
      },
      "source": [
        "# Model 3"
      ]
    },
    {
      "cell_type": "markdown",
      "metadata": {
        "id": "rhw4K5aMrkry"
      },
      "source": [
        "#### READING DATA"
      ]
    },
    {
      "cell_type": "markdown",
      "metadata": {
        "id": "uMOpuuSJrkrz"
      },
      "source": [
        "#### SAVING DATA INTO FILES"
      ]
    },
    {
      "cell_type": "code",
      "execution_count": null,
      "metadata": {
        "id": "x8NHOdsJrkrz"
      },
      "outputs": [],
      "source": [
        "for dir in [\"Present_Black_Red\",\"Present_Black_Yellow\",\"Present_Blue_Black\",\"Present_Blue_Red\",\"Present_Blue_Yellow\",\"PresentBr\"]:\n",
        "    readData(os.path.join(os.pardir,\"ImageData\",\"Cropped\",dir,\"Properly Held\",\"Bottom\",\"Compressed\"),0,750,250,os.path.join(os.getcwd(),\"Model3\",\"dataTrain.npy\"),os.path.join(os.getcwd(),\"Model3\",\"labelTrain.npy\"),os.path.join(os.getcwd(),\"Model3\",\"dataTest.npy\"),os.path.join(os.getcwd(),\"Model3\",\"labelTest.npy\"))\n",
        "    readData(os.path.join(os.pardir,\"ImageData\",\"Cropped\",dir,\"Properly Held\",\"Bottom\",\"Relaxed\"),1,750,250,os.path.join(os.getcwd(),\"Model3\",\"dataTrain.npy\"),os.path.join(os.getcwd(),\"Model3\",\"labelTrain.npy\"),os.path.join(os.getcwd(),\"Model3\",\"dataTest.npy\"),os.path.join(os.getcwd(),\"Model3\",\"labelTest.npy\"))\n",
        "    readData(os.path.join(os.pardir,\"ImageData\",\"Cropped\",dir,\"Properly Held\",\"Front\",\"Compressed\"),0,750,250,os.path.join(os.getcwd(),\"Model3\",\"dataTrain.npy\"),os.path.join(os.getcwd(),\"Model3\",\"labelTrain.npy\"),os.path.join(os.getcwd(),\"Model3\",\"dataTest.npy\"),os.path.join(os.getcwd(),\"Model3\",\"labelTest.npy\"))\n",
        "    readData(os.path.join(os.pardir,\"ImageData\",\"Cropped\",dir,\"Properly Held\",\"Front\",\"Relaxed\"),1,750,250,os.path.join(os.getcwd(),\"Model3\",\"dataTrain.npy\"),os.path.join(os.getcwd(),\"Model3\",\"labelTrain.npy\"),os.path.join(os.getcwd(),\"Model3\",\"dataTest.npy\"),os.path.join(os.getcwd(),\"Model3\",\"labelTest.npy\"))\n",
        "    readData(os.path.join(os.pardir,\"ImageData\",\"Cropped\",dir,\"Properly Held\",\"Left\",\"Compressed\"),0,750,250,os.path.join(os.getcwd(),\"Model3\",\"dataTrain.npy\"),os.path.join(os.getcwd(),\"Model3\",\"labelTrain.npy\"),os.path.join(os.getcwd(),\"Model3\",\"dataTest.npy\"),os.path.join(os.getcwd(),\"Model3\",\"labelTest.npy\"))\n",
        "    readData(os.path.join(os.pardir,\"ImageData\",\"Cropped\",dir,\"Properly Held\",\"Left\",\"Relaxed\"),1,750,250,os.path.join(os.getcwd(),\"Model3\",\"dataTrain.npy\"),os.path.join(os.getcwd(),\"Model3\",\"labelTrain.npy\"),os.path.join(os.getcwd(),\"Model3\",\"dataTest.npy\"),os.path.join(os.getcwd(),\"Model3\",\"labelTest.npy\"))\n",
        "    readData(os.path.join(os.pardir,\"ImageData\",\"Cropped\",dir,\"Properly Held\",\"Right\",\"Compressed\"),0,750,250,os.path.join(os.getcwd(),\"Model3\",\"dataTrain.npy\"),os.path.join(os.getcwd(),\"Model3\",\"labelTrain.npy\"),os.path.join(os.getcwd(),\"Model3\",\"dataTest.npy\"),os.path.join(os.getcwd(),\"Model3\",\"labelTest.npy\"))\n",
        "    readData(os.path.join(os.pardir,\"ImageData\",\"Cropped\",dir,\"Properly Held\",\"Right\",\"Relaxed\"),1,750,250,os.path.join(os.getcwd(),\"Model3\",\"dataTrain.npy\"),os.path.join(os.getcwd(),\"Model3\",\"labelTrain.npy\"),os.path.join(os.getcwd(),\"Model3\",\"dataTest.npy\"),os.path.join(os.getcwd(),\"Model3\",\"labelTest.npy\"))\n",
        "    readData(os.path.join(os.pardir,\"ImageData\",\"Cropped\",dir,\"Properly Held\",\"Top\",\"Compressed\"),0,750,250,os.path.join(os.getcwd(),\"Model3\",\"dataTrain.npy\"),os.path.join(os.getcwd(),\"Model3\",\"labelTrain.npy\"),os.path.join(os.getcwd(),\"Model3\",\"dataTest.npy\"),os.path.join(os.getcwd(),\"Model3\",\"labelTest.npy\"))\n",
        "    readData(os.path.join(os.pardir,\"ImageData\",\"Cropped\",dir,\"Properly Held\",\"Top\",\"Relaxed\"),1,750,250,os.path.join(os.getcwd(),\"Model3\",\"dataTrain.npy\"),os.path.join(os.getcwd(),\"Model3\",\"labelTrain.npy\"),os.path.join(os.getcwd(),\"Model3\",\"dataTest.npy\"),os.path.join(os.getcwd(),\"Model3\",\"labelTest.npy\"))"
      ]
    },
    {
      "cell_type": "markdown",
      "metadata": {
        "id": "DUoF7Se2rkr0"
      },
      "source": [
        "#### LOADING DATA FROM FILES"
      ]
    },
    {
      "cell_type": "code",
      "execution_count": null,
      "metadata": {
        "id": "wTPRC2okrkr0"
      },
      "outputs": [],
      "source": [
        "# Run from here while training\n",
        "dataTrain3 = np.load(os.path.join(os.getcwd(),'Model3','dataTrain.npy'))\n",
        "dataTest3 = np.load(os.path.join(os.getcwd(),'Model3','dataTest.npy'))\n",
        "labelTrain3 = np.load(os.path.join(os.getcwd(),'Model3','labelTrain.npy'))\n",
        "labelTest3 = np.load(os.path.join(os.getcwd(),'Model3','labelTest.npy'))"
      ]
    },
    {
      "cell_type": "code",
      "execution_count": null,
      "metadata": {
        "id": "Iaq5KVsgrkr1",
        "outputId": "59c19564-195d-4787-dd59-60eb94f0304f"
      },
      "outputs": [
        {
          "data": {
            "text/plain": [
              "(45000, 1)"
            ]
          },
          "execution_count": 24,
          "metadata": {},
          "output_type": "execute_result"
        }
      ],
      "source": [
        "labelTrain3.shape"
      ]
    },
    {
      "cell_type": "markdown",
      "metadata": {
        "id": "nJy7FT-frkr1"
      },
      "source": [
        "#### SHUFFLING THE DATA"
      ]
    },
    {
      "cell_type": "code",
      "execution_count": null,
      "metadata": {
        "id": "1tDwHH_hrkr1"
      },
      "outputs": [],
      "source": [
        "dataTrain3,labelTrain3 = randomizeData(dataTrain3,labelTrain3)\n",
        "dataTest3,labelTest3 = randomizeData(dataTest3,labelTest3)"
      ]
    },
    {
      "cell_type": "markdown",
      "metadata": {
        "id": "RLX0WuUArkr1"
      },
      "source": [
        "#### INITIALIZING THE MODEL"
      ]
    },
    {
      "cell_type": "code",
      "execution_count": null,
      "metadata": {
        "id": "WHdXydnbrkr2"
      },
      "outputs": [],
      "source": [
        "classifier3 = Sequential()"
      ]
    },
    {
      "cell_type": "markdown",
      "metadata": {
        "id": "FdceNVn7rkr2"
      },
      "source": [
        "#### ADDING CONVOLUTION LAYERS"
      ]
    },
    {
      "cell_type": "code",
      "execution_count": null,
      "metadata": {
        "id": "Tr7RojdYrkr2"
      },
      "outputs": [],
      "source": [
        "classifier3.add(layers.Convolution2D(32,3,activation = \"relu\",input_shape = (200,200,1)))\n",
        "classifier3.add(layers.Convolution2D(32,3,activation = \"relu\"))\n",
        "classifier3.add(layers.MaxPooling2D(pool_size = (2,2)))\n",
        "classifier3.add(layers.Convolution2D(32,3,activation = \"relu\"))\n",
        "classifier3.add(layers.Convolution2D(32,3,activation = \"relu\"))\n",
        "classifier3.add(layers.MaxPooling2D(pool_size = (2,2)))\n",
        "classifier3.add(layers.Convolution2D(32,3,activation = \"relu\"))\n",
        "classifier3.add(layers.Convolution2D(32,3,activation = \"relu\"))\n",
        "classifier3.add(layers.MaxPooling2D(pool_size = (2,2)))"
      ]
    },
    {
      "cell_type": "markdown",
      "metadata": {
        "id": "bq7t_13nrkr2"
      },
      "source": [
        "#### ADDING DENSE LAYERS OF THE NEURAL NETWORK"
      ]
    },
    {
      "cell_type": "code",
      "execution_count": null,
      "metadata": {
        "id": "bK8_P4Ykrkr2"
      },
      "outputs": [],
      "source": [
        "classifier2.add(layers.Flatten())\n",
        "classifier2.add(layers.Dense(128,activation = 'relu'))\n",
        "classifier2.add(layers.Dense(64,activation = 'relu'))\n",
        "classifier2.add(layers.Dense(32,activation = 'relu'))\n",
        "classifier2.add(layers.Dense(5,activation = 'softmax'))"
      ]
    },
    {
      "cell_type": "code",
      "execution_count": null,
      "metadata": {
        "id": "BjkFf5Ztrkr3",
        "outputId": "061aa5c3-5707-47b8-a59e-745db42b6b82"
      },
      "outputs": [
        {
          "name": "stdout",
          "output_type": "stream",
          "text": [
            "Model: \"sequential\"\n",
            "_________________________________________________________________\n",
            " Layer (type)                Output Shape              Param #   \n",
            "=================================================================\n",
            " conv2d (Conv2D)             (None, 198, 198, 32)      320       \n",
            "                                                                 \n",
            " conv2d_1 (Conv2D)           (None, 196, 196, 32)      9248      \n",
            "                                                                 \n",
            " max_pooling2d (MaxPooling2D  (None, 98, 98, 32)       0         \n",
            " )                                                               \n",
            "                                                                 \n",
            " conv2d_2 (Conv2D)           (None, 96, 96, 32)        9248      \n",
            "                                                                 \n",
            " conv2d_3 (Conv2D)           (None, 94, 94, 32)        9248      \n",
            "                                                                 \n",
            " max_pooling2d_1 (MaxPooling  (None, 47, 47, 32)       0         \n",
            " 2D)                                                             \n",
            "                                                                 \n",
            " conv2d_4 (Conv2D)           (None, 45, 45, 32)        9248      \n",
            "                                                                 \n",
            " conv2d_5 (Conv2D)           (None, 43, 43, 32)        9248      \n",
            "                                                                 \n",
            " max_pooling2d_2 (MaxPooling  (None, 21, 21, 32)       0         \n",
            " 2D)                                                             \n",
            "                                                                 \n",
            " flatten (Flatten)           (None, 14112)             0         \n",
            "                                                                 \n",
            " dense (Dense)               (None, 128)               1806464   \n",
            "                                                                 \n",
            " dense_1 (Dense)             (None, 64)                8256      \n",
            "                                                                 \n",
            " dense_2 (Dense)             (None, 32)                2080      \n",
            "                                                                 \n",
            " dense_3 (Dense)             (None, 2)                 66        \n",
            "                                                                 \n",
            "=================================================================\n",
            "Total params: 1,863,426\n",
            "Trainable params: 1,863,426\n",
            "Non-trainable params: 0\n",
            "_________________________________________________________________\n"
          ]
        }
      ],
      "source": [
        "classifier3.summary()"
      ]
    },
    {
      "cell_type": "markdown",
      "metadata": {
        "id": "Z3sgiGCRrkr3"
      },
      "source": [
        "#### COMPILING THE CNN"
      ]
    },
    {
      "cell_type": "code",
      "execution_count": null,
      "metadata": {
        "id": "JPchiKVrrkr3"
      },
      "outputs": [],
      "source": [
        "classifier3.compile(optimizer = 'adam',loss = 'sparse_categorical_crossentropy',metrics = ['accuracy'])"
      ]
    },
    {
      "cell_type": "markdown",
      "metadata": {
        "id": "lmfkXW7srkr3"
      },
      "source": [
        "#### TRAINING THE DATA"
      ]
    },
    {
      "cell_type": "code",
      "execution_count": null,
      "metadata": {
        "id": "Os48ZEYBrkr3",
        "outputId": "f44872f6-3f32-4fbe-a2a2-ae04569e0734"
      },
      "outputs": [
        {
          "name": "stdout",
          "output_type": "stream",
          "text": [
            "Epoch 1/20\n",
            "2813/2813 [==============================] - 103s 35ms/step - loss: 0.2350 - accuracy: 0.8903 - val_loss: 0.0712 - val_accuracy: 0.9768\n",
            "Epoch 2/20\n",
            "2813/2813 [==============================] - 94s 33ms/step - loss: 0.0438 - accuracy: 0.9854 - val_loss: 0.0388 - val_accuracy: 0.9884\n",
            "Epoch 3/20\n",
            "2813/2813 [==============================] - 94s 33ms/step - loss: 0.0273 - accuracy: 0.9920 - val_loss: 0.0786 - val_accuracy: 0.9777\n",
            "Epoch 4/20\n",
            "2813/2813 [==============================] - 95s 34ms/step - loss: 0.0194 - accuracy: 0.9940 - val_loss: 0.0370 - val_accuracy: 0.9900\n",
            "Epoch 5/20\n",
            "2813/2813 [==============================] - 94s 33ms/step - loss: 0.0119 - accuracy: 0.9966 - val_loss: 0.0298 - val_accuracy: 0.9929\n",
            "Epoch 6/20\n",
            "2813/2813 [==============================] - 94s 33ms/step - loss: 0.0106 - accuracy: 0.9970 - val_loss: 0.0296 - val_accuracy: 0.9925\n",
            "Epoch 7/20\n",
            "2813/2813 [==============================] - 94s 33ms/step - loss: 0.0086 - accuracy: 0.9979 - val_loss: 0.0277 - val_accuracy: 0.9921\n",
            "Epoch 8/20\n",
            "2813/2813 [==============================] - 94s 33ms/step - loss: 0.0085 - accuracy: 0.9980 - val_loss: 0.0254 - val_accuracy: 0.9948\n",
            "Epoch 9/20\n",
            "2813/2813 [==============================] - 94s 33ms/step - loss: 0.0097 - accuracy: 0.9973 - val_loss: 0.0313 - val_accuracy: 0.9937\n",
            "Epoch 10/20\n",
            "2813/2813 [==============================] - 94s 33ms/step - loss: 0.0054 - accuracy: 0.9986 - val_loss: 0.0383 - val_accuracy: 0.9893\n",
            "Epoch 11/20\n",
            "2813/2813 [==============================] - 94s 33ms/step - loss: 0.0065 - accuracy: 0.9981 - val_loss: 0.0305 - val_accuracy: 0.9945\n",
            "Epoch 12/20\n",
            "2813/2813 [==============================] - 94s 34ms/step - loss: 0.0045 - accuracy: 0.9988 - val_loss: 0.0464 - val_accuracy: 0.9931\n",
            "Epoch 13/20\n",
            "2813/2813 [==============================] - 94s 33ms/step - loss: 0.0052 - accuracy: 0.9985 - val_loss: 0.0399 - val_accuracy: 0.9941\n",
            "Epoch 14/20\n",
            "2813/2813 [==============================] - 94s 33ms/step - loss: 0.0119 - accuracy: 0.9981 - val_loss: 0.1023 - val_accuracy: 0.9808\n",
            "Epoch 15/20\n",
            "2813/2813 [==============================] - 94s 33ms/step - loss: 0.0067 - accuracy: 0.9981 - val_loss: 0.0290 - val_accuracy: 0.9947\n",
            "Epoch 16/20\n",
            "2813/2813 [==============================] - 94s 33ms/step - loss: 0.0037 - accuracy: 0.9989 - val_loss: 0.0282 - val_accuracy: 0.9959\n",
            "Epoch 17/20\n",
            "2813/2813 [==============================] - 94s 33ms/step - loss: 0.0074 - accuracy: 0.9986 - val_loss: 0.0494 - val_accuracy: 0.9945\n",
            "Epoch 18/20\n",
            "2813/2813 [==============================] - 94s 33ms/step - loss: 0.0038 - accuracy: 0.9990 - val_loss: 0.0794 - val_accuracy: 0.9937\n",
            "Epoch 19/20\n",
            "2813/2813 [==============================] - 95s 34ms/step - loss: 0.0041 - accuracy: 0.9989 - val_loss: 0.0538 - val_accuracy: 0.9950\n",
            "Epoch 20/20\n",
            "2813/2813 [==============================] - 94s 33ms/step - loss: 0.0028 - accuracy: 0.9993 - val_loss: 0.0541 - val_accuracy: 0.9945\n"
          ]
        },
        {
          "data": {
            "text/plain": [
              "<keras.callbacks.History at 0x175ff4dea30>"
            ]
          },
          "execution_count": 10,
          "metadata": {},
          "output_type": "execute_result"
        }
      ],
      "source": [
        "classifier3.fit(dataTrain3,labelTrain3,epochs = 20,verbose = 1,validation_data = (dataTest3,labelTest3),batch_size=16)"
      ]
    },
    {
      "cell_type": "markdown",
      "metadata": {
        "id": "74AJaWwOrkr4"
      },
      "source": [
        "#### SAVING THE MODEL IN A FILE"
      ]
    },
    {
      "cell_type": "code",
      "execution_count": null,
      "metadata": {
        "id": "xSIW4vOErkr4"
      },
      "outputs": [],
      "source": [
        "classifier3.save(os.path.join(os.getcwd(),'Model3.h5'))\n",
        "!tensorflowjs_converter --input_format keras Model3.h5 Model3JS/"
      ]
    }
  ],
  "metadata": {
    "kernelspec": {
      "display_name": "pilates_ring",
      "language": "python",
      "name": "python3"
    },
    "language_info": {
      "codemirror_mode": {
        "name": "ipython",
        "version": 3
      },
      "file_extension": ".py",
      "mimetype": "text/x-python",
      "name": "python",
      "nbconvert_exporter": "python",
      "pygments_lexer": "ipython3",
      "version": "3.9.11"
    },
    "orig_nbformat": 4,
    "vscode": {
      "interpreter": {
        "hash": "ba4e96b057839283c149033f1e1a3c82ad2b75f45b9c921ea61c56f829072331"
      }
    },
    "colab": {
      "provenance": []
    }
  },
  "nbformat": 4,
  "nbformat_minor": 0
}